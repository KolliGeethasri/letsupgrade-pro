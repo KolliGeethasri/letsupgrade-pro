{
  "nbformat": 4,
  "nbformat_minor": 0,
  "metadata": {
    "colab": {
      "name": "Untitled13.ipynb",
      "provenance": []
    },
    "kernelspec": {
      "name": "python3",
      "display_name": "Python 3"
    }
  },
  "cells": [
    {
      "cell_type": "code",
      "metadata": {
        "id": "EuFLjuG0UmmL"
      },
      "source": [
        "!pip install emails\r\n",
        "import emails\r\n",
        "message=emails.html(html=\"<p>Hi<br>Here is your message.....\",subject=\"Test mail\",mail_from=('some store','....@gmail.com'))\r\n",
        "mail_via_python=meesage.send(to='....@gmail.com',smtp={'host':smtp.gmail.com,'timeout':5,'tls':True})"
      ],
      "execution_count": null,
      "outputs": []
    }
  ]
}